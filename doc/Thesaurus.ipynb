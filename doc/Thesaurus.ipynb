{
 "cells": [
  {
   "cell_type": "code",
   "execution_count": 64,
   "metadata": {
    "collapsed": true,
    "slideshow": {
     "slide_type": "skip"
    }
   },
   "outputs": [],
   "source": [
    "import sys\n",
    "import os.path as osp\n",
    "import os\n",
    "import subprocess\n",
    "import json\n",
    "sys.path.append('/home/grg/git/alfa')\n",
    "os.chdir('/home/grg/git/alfa')\n",
    "\n",
    "def shell_execute(cmd):\n",
    "    proc = subprocess.Popen(cmd.split(' '), stdout=subprocess.PIPE, shell=False)\n",
    "    (out, err) = proc.communicate()\n",
    "    return out"
   ]
  },
  {
   "cell_type": "markdown",
   "metadata": {
    "slideshow": {
     "slide_type": "slide"
    }
   },
   "source": [
    "## Simplifying brain-twisting endless commands\n",
    "and minimize the chance of typos between two tries"
   ]
  },
  {
   "cell_type": "markdown",
   "metadata": {
    "slideshow": {
     "slide_type": "fragment"
    }
   },
   "source": [
    "Let's say I need to type these commands :\n",
    "<pre>ANTS 3 -m CC[ /home/grg/data/ALFA_DWI/10013/T1/10013_mabonlm_nobias_spm_c2_d2.nii.gz, /home/grg/data/ALFA_DWI/10013/DWI/10013_B0_brain_seg_1.nii.gz, 1, 4] -r Gauss[0,3] -t Elast[1.5] -i 30x20x10 -o /home/grg/data/ALFA_DWI/10013/DWI/ants_elast_dwi-to-t1_.nii.gz\n",
    "\n",
    "WarpImageMultiTransform 3 /home/grg/data/ALFA_DWI/10013/DWI/10013_MD.nii.gz /home/grg/data/ALFA_DWI/10013/DWI/10013_MD_t1space.nii.gz -R /home/grg/data/ALFA_DWI/10013/T1/10013_mabonlm_nobias.nii /home/grg/data/ALFA_DWI/10013/DWI/ants_elast_dwi-to-t1_Warp.nii.gz /home/grg/data/ALFA_DWI/10013/DWI/ants_elast_dwi-to-t1_Affine.txt\n",
    "</pre> "
   ]
  },
  {
   "cell_type": "markdown",
   "metadata": {
    "slideshow": {
     "slide_type": "fragment"
    }
   },
   "source": [
    "I'll first create a JSON giving a template of the commands."
   ]
  },
  {
   "cell_type": "code",
   "execution_count": 50,
   "metadata": {
    "collapsed": false,
    "slideshow": {
     "slide_type": "fragment"
    }
   },
   "outputs": [],
   "source": [
    "j = {'ants_dwi_to_t1': u'ANTS 3 -m CC[ %s, %s, 1, 4] -r Gauss[0,3] -t Elast[1.5] -i 30x20x10 -o %s',\n",
    "     'warp_md_to_t1': u'WarpImageMultiTransform 3 %s %s -R %s %s %s'}\n",
    "json.dump(j, open('/tmp/templates.json','w'))"
   ]
  },
  {
   "cell_type": "markdown",
   "metadata": {
    "slideshow": {
     "slide_type": "fragment"
    }
   },
   "source": [
    "The $\\%s$ represent parameters (such as filenames) that will be provided later.\n",
    "\n",
    "This is like separating bones (<i>the command itself</i>) from the meat (<i>the data</i>)."
   ]
  },
  {
   "cell_type": "markdown",
   "metadata": {
    "slideshow": {
     "slide_type": "fragment"
    }
   },
   "source": [
    "$thesaurus$ will then fill in the ($\\%s$) blanks. Just name the desired command and give the parameters in the same order as they appear in the command."
   ]
  },
  {
   "cell_type": "code",
   "execution_count": null,
   "metadata": {
    "collapsed": true,
    "slideshow": {
     "slide_type": "fragment"
    }
   },
   "outputs": [],
   "source": []
  },
  {
   "cell_type": "code",
   "execution_count": 58,
   "metadata": {
    "collapsed": false,
    "slideshow": {
     "slide_type": "fragment"
    }
   },
   "outputs": [
    {
     "name": "stdout",
     "output_type": "stream",
     "text": [
      "$ ./thesaurus.py -n --name ants_dwi_to_t1 /tmp/templates.json target.nii moving.nii trans_\n",
      "ANTS 3 -m CC[ target.nii, moving.nii, 1, 4] -r Gauss[0,3] -t Elast[1.5] -i 30x20x10 -o trans_\n",
      "\n",
      "\n",
      "$ ./thesaurus.py -n --name warp_md_to_t1 /tmp/templates.json target.nii moving.nii output.nii trans_Warp.nii trans_Affine.txt\n",
      "WarpImageMultiTransform 3 target.nii moving.nii -R output.nii trans_Warp.nii trans_Affine.txt\n",
      "\n"
     ]
    }
   ],
   "source": [
    "cmd = './thesaurus.py -n --name ants_dwi_to_t1 /tmp/templates.json target.nii moving.nii trans_'\n",
    "print '$', cmd\n",
    "print shell_execute(cmd)\n",
    "\n",
    "cmd = './thesaurus.py -n --name warp_md_to_t1 /tmp/templates.json target.nii moving.nii output.nii trans_Warp.nii trans_Affine.txt'\n",
    "print '\\n$', cmd\n",
    "print shell_execute(cmd)"
   ]
  },
  {
   "cell_type": "markdown",
   "metadata": {
    "slideshow": {
     "slide_type": "fragment"
    }
   },
   "source": [
    "The $-n$ option is just a safety lock to display the command only and not to run it."
   ]
  },
  {
   "cell_type": "markdown",
   "metadata": {
    "slideshow": {
     "slide_type": "slide"
    }
   },
   "source": [
    "## Pushing it further.."
   ]
  },
  {
   "cell_type": "markdown",
   "metadata": {
    "slideshow": {
     "slide_type": "fragment"
    }
   },
   "source": [
    "$thesaurus$ can work with structured databases and preexisting filetypes.\n",
    "Here let's define the various IO of the previous commands.\n",
    "\n",
    "$@$ indicate input items that must exist prior to running the command.\n",
    "$>$ indicate output items that will be generated by the command.\n",
    "\n",
    "Naturally all the different filetypes have to be predefined and recognized by the database system."
   ]
  },
  {
   "cell_type": "code",
   "execution_count": 65,
   "metadata": {
    "collapsed": false,
    "slideshow": {
     "slide_type": "fragment"
    }
   },
   "outputs": [],
   "source": [
    "j = {'ants_dwi_to_t1': [u'@ALFA Denoised Nobias SPM Dilated White matter',\n",
    "         u'@ALFA DWI B0 Brain FSL FAST White matter',\n",
    "         u'ALFA ANTS Elast DWI to T1 Transformation Template Filename'],\n",
    "     'warp_md_to_t1': [u'@ALFA Mean Diffusivity Image',\n",
    "         u'>ALFA DWI MD Map Warped to T1 space',\n",
    "         u'@ALFA Denoised Nobias T1 Image',\n",
    "         u'@ALFA ANTS Elast DWI to T1 Transformation',\n",
    "         u'@ALFA ANTS Elast DWI to T1 Affine Transformation']}\n",
    "json.dump(j, open('/tmp/templates_io.json', 'w'))"
   ]
  },
  {
   "cell_type": "markdown",
   "metadata": {
    "slideshow": {
     "slide_type": "fragment"
    }
   },
   "source": [
    "Then call the desired command by its keyname, with the desired subject and feel light..."
   ]
  },
  {
   "cell_type": "code",
   "execution_count": 68,
   "metadata": {
    "collapsed": false,
    "slideshow": {
     "slide_type": "fragment"
    }
   },
   "outputs": [
    {
     "data": {
      "text/plain": [
       "u'WarpImageMultiTransform 3 /home/grg/data/ALFA_DWI/10013/DWI/10013_MD.nii.gz /home/grg/data/ALFA_DWI/10013/DWI/10013_MD_t1space.nii.gz -R /home/grg/data/ALFA_DWI/10013/T1/10013_mabonlm_nobias.nii /home/grg/data/ALFA_DWI/10013/DWI/ants_elast_dwi-to-t1_Warp.nii.gz /home/grg/data/ALFA_DWI/10013/DWI/ants_elast_dwi-to-t1_Affine.txt'"
      ]
     },
     "execution_count": 68,
     "metadata": {},
     "output_type": "execute_result"
    }
   ],
   "source": [
    "import thesaurus as t\n",
    "a = t.ALFAHelper() #jsonfile='/tmp/templates_io.json')\n",
    "a.parse_command(subject='10013', name='warp_md_to_t1')"
   ]
  },
  {
   "cell_type": "markdown",
   "metadata": {
    "slideshow": {
     "slide_type": "subslide"
    }
   },
   "source": [
    "Based on this file it can also recreate the sequence of a pipeline and that provide you with the progression state of a subject along this pipeline."
   ]
  },
  {
   "cell_type": "code",
   "execution_count": 77,
   "metadata": {
    "collapsed": false,
    "slideshow": {
     "slide_type": "fragment"
    }
   },
   "outputs": [
    {
     "name": "stdout",
     "output_type": "stream",
     "text": [
      "10013 is complete\n",
      "step: 0 \n",
      "\n",
      "55855 is stuck at step before warp_aal_to_dwi (missing: ALFA ANTS Elast T1 to DWI Transformation)\n",
      "step: warp_aal_to_dwi-1\n"
     ]
    }
   ],
   "source": [
    "step1 = a.current_stage('10013')\n",
    "print 'step:', step1, '\\n'\n",
    "\n",
    "step2 = a.current_stage('55855')\n",
    "print 'step:', step2"
   ]
  },
  {
   "cell_type": "markdown",
   "metadata": {
    "slideshow": {
     "slide_type": "subslide"
    }
   },
   "source": [
    "OK now enough talking. Can you please run that d@£( step over my entire dataset ?"
   ]
  },
  {
   "cell_type": "code",
   "execution_count": 86,
   "metadata": {
    "collapsed": true,
    "slideshow": {
     "slide_type": "skip"
    }
   },
   "outputs": [],
   "source": [
    "d = '/home/grg/data/ALFA_DWI/'\n",
    "from glob import glob\n",
    "subjects = [e.split('/')[-1] for e in glob(osp.join(d, '*')) if osp.isdir(e)]"
   ]
  },
  {
   "cell_type": "code",
   "execution_count": 89,
   "metadata": {
    "collapsed": false,
    "slideshow": {
     "slide_type": "fragment"
    }
   },
   "outputs": [
    {
     "name": "stdout",
     "output_type": "stream",
     "text": [
      "Failed 10779 /home/grg/data/ALFA_DWI/10779/DWI/10779_B0_brain_seg_1.nii.gz not found (type ALFA DWI B0 Brain FSL FAST White matter) while declared as input (or remove the leading @)\n",
      "Failed snapshots /home/grg/data/ALFA_DWI/snapshots/T1/snapshots_mabonlm_nobias_spm_c2_d2.nii.gz not found (type ALFA Denoised Nobias SPM Dilated White matter) while declared as input (or remove the leading @)\n",
      "Failed duplicates /home/grg/data/ALFA_DWI/duplicates/T1/duplicates_mabonlm_nobias_spm_c2_d2.nii.gz not found (type ALFA Denoised Nobias SPM Dilated White matter) while declared as input (or remove the leading @)\n"
     ]
    },
    {
     "data": {
      "text/plain": [
       "['21056',\n",
       " '11136',\n",
       " '12636',\n",
       " '10472',\n",
       " '10265',\n",
       " '77109',\n",
       " '11943',\n",
       " '10225',\n",
       " '10338',\n",
       " '10117',\n",
       " '10162',\n",
       " '12975',\n",
       " '10396',\n",
       " '11248',\n",
       " '55297',\n",
       " '13070',\n",
       " '11902',\n",
       " '21057c',\n",
       " '10822',\n",
       " '13244',\n",
       " '55809',\n",
       " '55278',\n",
       " '13242',\n",
       " '12067',\n",
       " '10682',\n",
       " '12810',\n",
       " '10330',\n",
       " '66293',\n",
       " '11620',\n",
       " '11415',\n",
       " '77175',\n",
       " '10025',\n",
       " '11291',\n",
       " '10461',\n",
       " '10151',\n",
       " '12878',\n",
       " '12308',\n",
       " '12861',\n",
       " '21092',\n",
       " '77130',\n",
       " '13215',\n",
       " '11461',\n",
       " '12704',\n",
       " '10051',\n",
       " '12904',\n",
       " '10518',\n",
       " '11137',\n",
       " '10312',\n",
       " '10385',\n",
       " '77151',\n",
       " '12812',\n",
       " '10090',\n",
       " '11666',\n",
       " '77195',\n",
       " '10703',\n",
       " '11152',\n",
       " '11641',\n",
       " '11592',\n",
       " '11550',\n",
       " '10841',\n",
       " '12324',\n",
       " '11191',\n",
       " '11133',\n",
       " '13164',\n",
       " '77056',\n",
       " '11071',\n",
       " '11201',\n",
       " '10645',\n",
       " '55708',\n",
       " '10108',\n",
       " '11219',\n",
       " '11416',\n",
       " '10016',\n",
       " '12122',\n",
       " '12330',\n",
       " '77034',\n",
       " '12140',\n",
       " '10552',\n",
       " '77217',\n",
       " '55855',\n",
       " '10482',\n",
       " '12125',\n",
       " '12841',\n",
       " '44491',\n",
       " '66048',\n",
       " '10692',\n",
       " '12079',\n",
       " '55469',\n",
       " '66029',\n",
       " '10881',\n",
       " '12015',\n",
       " '10550',\n",
       " '12417',\n",
       " '10988',\n",
       " '66368',\n",
       " '11047',\n",
       " '10367',\n",
       " '11778c',\n",
       " '11638',\n",
       " '10217',\n",
       " '10182',\n",
       " '77152',\n",
       " '77254',\n",
       " '55210',\n",
       " '11407',\n",
       " '12356',\n",
       " '12425',\n",
       " '11979',\n",
       " '12056',\n",
       " '10242',\n",
       " '44151',\n",
       " '10724',\n",
       " '13235',\n",
       " '10199',\n",
       " '10365',\n",
       " '66128',\n",
       " '10036',\n",
       " '77140',\n",
       " '10821',\n",
       " '44043',\n",
       " '11975',\n",
       " '13238',\n",
       " '10735',\n",
       " '10966',\n",
       " '10317',\n",
       " '10035',\n",
       " '10023',\n",
       " '11686',\n",
       " '11796',\n",
       " '10778',\n",
       " '13345',\n",
       " '11874',\n",
       " '10504',\n",
       " '10744',\n",
       " '11691',\n",
       " '12970',\n",
       " '11245',\n",
       " '13127',\n",
       " '10697',\n",
       " '13059',\n",
       " '10972',\n",
       " '10084',\n",
       " '11458',\n",
       " '11798',\n",
       " '21012',\n",
       " '12244',\n",
       " '44027',\n",
       " '12269',\n",
       " '44660',\n",
       " '11048',\n",
       " '66050',\n",
       " '66162',\n",
       " '10577',\n",
       " '55488',\n",
       " '66042',\n",
       " '10049',\n",
       " '12516',\n",
       " '11323',\n",
       " '10259',\n",
       " '12245',\n",
       " '77224',\n",
       " '66361',\n",
       " '55216',\n",
       " '10515',\n",
       " '10775',\n",
       " '12941',\n",
       " '12823',\n",
       " '10418',\n",
       " '13417',\n",
       " '55734',\n",
       " '11063',\n",
       " '11225',\n",
       " '11721',\n",
       " '10850',\n",
       " '12699',\n",
       " '10042',\n",
       " '12976',\n",
       " '10200',\n",
       " '66239',\n",
       " '77076',\n",
       " '10322',\n",
       " '12914',\n",
       " '13144',\n",
       " '11583',\n",
       " '21084',\n",
       " '10448',\n",
       " '55778',\n",
       " '10787',\n",
       " '44086',\n",
       " '11630',\n",
       " '13019cc',\n",
       " '12995',\n",
       " '12874',\n",
       " '11597',\n",
       " '66133',\n",
       " '10942',\n",
       " '10370',\n",
       " '10013',\n",
       " '77027',\n",
       " '10870',\n",
       " '10034',\n",
       " '44141',\n",
       " '10361',\n",
       " '66131',\n",
       " '55483',\n",
       " '10170',\n",
       " '66267',\n",
       " '12787',\n",
       " '10750',\n",
       " '13217',\n",
       " '11939',\n",
       " '11139',\n",
       " '44632',\n",
       " '13061',\n",
       " '10668',\n",
       " '11045',\n",
       " '10630',\n",
       " '10019',\n",
       " '10393',\n",
       " '10334',\n",
       " '11383',\n",
       " '55630',\n",
       " '10294',\n",
       " '11007',\n",
       " '10741',\n",
       " '11703',\n",
       " '10329',\n",
       " '11127',\n",
       " '11351',\n",
       " '55370',\n",
       " '11213',\n",
       " '10901',\n",
       " '66019',\n",
       " '10894',\n",
       " '44147',\n",
       " '12138',\n",
       " '12783',\n",
       " '11222',\n",
       " '10416',\n",
       " '11436',\n",
       " '77263',\n",
       " '12174',\n",
       " '44119',\n",
       " '13008',\n",
       " '66270',\n",
       " '12484',\n",
       " '55793',\n",
       " '66215',\n",
       " '10298',\n",
       " '10113',\n",
       " '11360',\n",
       " '13214',\n",
       " '77117',\n",
       " '77096',\n",
       " '10593',\n",
       " '66211',\n",
       " '13043',\n",
       " '13083',\n",
       " '10226',\n",
       " '10496',\n",
       " '77068',\n",
       " '55323',\n",
       " '10158',\n",
       " '11514',\n",
       " '12947',\n",
       " '11262',\n",
       " '12537',\n",
       " '66030',\n",
       " '21039',\n",
       " '10450',\n",
       " '10354',\n",
       " '77179',\n",
       " '66026',\n",
       " '10944',\n",
       " '10613',\n",
       " '11114',\n",
       " '11042',\n",
       " '10858',\n",
       " '10809',\n",
       " '21026',\n",
       " '55355',\n",
       " '77037',\n",
       " '55667',\n",
       " '10346',\n",
       " '66294',\n",
       " '12851',\n",
       " '11196',\n",
       " '11247',\n",
       " '66124',\n",
       " '11264',\n",
       " '10186',\n",
       " '77192',\n",
       " '11252',\n",
       " '10118',\n",
       " '12483',\n",
       " '11019',\n",
       " '10099',\n",
       " '10541',\n",
       " '11184',\n",
       " '11614',\n",
       " '13367',\n",
       " '10433',\n",
       " '10693',\n",
       " '10053',\n",
       " '55057',\n",
       " '11768',\n",
       " '13169',\n",
       " '12156',\n",
       " '12582',\n",
       " '10811',\n",
       " '12930',\n",
       " '44105',\n",
       " '12409',\n",
       " '10028',\n",
       " '10040',\n",
       " '55388',\n",
       " '12252',\n",
       " '66335',\n",
       " '12379',\n",
       " '10335',\n",
       " '11540',\n",
       " '10052',\n",
       " '10150',\n",
       " '77252',\n",
       " '12772',\n",
       " '13293',\n",
       " '10324',\n",
       " '55351',\n",
       " '10696',\n",
       " '11012',\n",
       " '10024',\n",
       " '13312',\n",
       " '11038',\n",
       " '11180',\n",
       " '11937',\n",
       " '10486',\n",
       " '12502',\n",
       " '10251',\n",
       " '13063',\n",
       " '10096',\n",
       " '12711',\n",
       " '66039',\n",
       " '66125',\n",
       " '77024',\n",
       " '10511',\n",
       " '10426',\n",
       " '12624',\n",
       " '10634',\n",
       " '55854',\n",
       " '11305',\n",
       " '10453',\n",
       " '11478',\n",
       " '66183',\n",
       " '12724',\n",
       " '11092',\n",
       " '13163',\n",
       " '10551',\n",
       " '44046',\n",
       " '10522',\n",
       " '10123',\n",
       " '21051',\n",
       " '13105',\n",
       " '21073',\n",
       " '12715',\n",
       " '10156',\n",
       " '10160',\n",
       " '11254',\n",
       " '10326',\n",
       " '10737',\n",
       " '11858',\n",
       " '10417',\n",
       " '10846',\n",
       " '11156',\n",
       " '10026',\n",
       " '11223',\n",
       " '12730',\n",
       " '12279',\n",
       " '12445',\n",
       " '66240',\n",
       " '13075',\n",
       " '10245',\n",
       " '10947',\n",
       " '13090',\n",
       " '10029',\n",
       " '66020',\n",
       " '11016',\n",
       " '77044',\n",
       " '11610',\n",
       " '44091',\n",
       " '11327',\n",
       " '11487c',\n",
       " '11646',\n",
       " '12032',\n",
       " '10325',\n",
       " '11217',\n",
       " '12548',\n",
       " '10436',\n",
       " '10134',\n",
       " '12771',\n",
       " '11526',\n",
       " '12493',\n",
       " '10362',\n",
       " '77093',\n",
       " '13035',\n",
       " '66172',\n",
       " '66089',\n",
       " '11257c',\n",
       " '66257',\n",
       " '55058',\n",
       " '11687',\n",
       " '12391',\n",
       " '10015',\n",
       " '10855',\n",
       " '10536',\n",
       " '13049',\n",
       " '10463',\n",
       " '77188',\n",
       " '11552',\n",
       " '10102',\n",
       " '12765',\n",
       " '10235',\n",
       " '21011',\n",
       " '55539',\n",
       " '10678',\n",
       " '44094',\n",
       " '12133',\n",
       " '12511',\n",
       " '77040',\n",
       " '10070',\n",
       " '10528',\n",
       " '66268',\n",
       " '11426',\n",
       " '44229',\n",
       " '11414',\n",
       " '11590',\n",
       " '10166',\n",
       " '12121',\n",
       " '12893',\n",
       " '13268',\n",
       " '10071',\n",
       " '10212',\n",
       " '12172',\n",
       " '66044',\n",
       " '44733',\n",
       " '44068',\n",
       " '10576',\n",
       " '13322',\n",
       " '13151',\n",
       " '12785',\n",
       " '12479',\n",
       " '12271',\n",
       " '10248',\n",
       " '44062',\n",
       " '21042',\n",
       " '55142',\n",
       " '11850',\n",
       " '44004',\n",
       " '77241',\n",
       " '11195',\n",
       " '12637',\n",
       " '12659',\n",
       " '12323',\n",
       " '55538',\n",
       " '10010',\n",
       " '10538',\n",
       " '13054',\n",
       " '13309',\n",
       " '66164',\n",
       " '12399',\n",
       " '55353',\n",
       " '66017',\n",
       " '10563',\n",
       " '66169',\n",
       " '12296',\n",
       " '11387',\n",
       " '55166',\n",
       " '21130',\n",
       " '11561',\n",
       " '66492',\n",
       " '10530',\n",
       " '11292',\n",
       " '66341',\n",
       " '11474',\n",
       " '11872',\n",
       " '10038',\n",
       " '10725',\n",
       " '11355',\n",
       " '10263',\n",
       " '12327',\n",
       " '13236',\n",
       " '11941',\n",
       " '55636',\n",
       " '12767',\n",
       " '21002',\n",
       " '10282',\n",
       " '11435',\n",
       " '10253',\n",
       " '44723',\n",
       " '13138',\n",
       " '10397',\n",
       " '11737',\n",
       " '12186',\n",
       " '11144',\n",
       " '12858',\n",
       " '77047',\n",
       " '77094',\n",
       " '77051',\n",
       " '12920',\n",
       " '55152',\n",
       " '10178',\n",
       " '10657',\n",
       " '66312',\n",
       " '10586',\n",
       " '12239',\n",
       " '12304',\n",
       " '12542',\n",
       " '11747',\n",
       " '10032',\n",
       " '13118',\n",
       " '44057',\n",
       " '11882',\n",
       " '11656',\n",
       " '10144',\n",
       " '11593',\n",
       " '66264',\n",
       " '10180',\n",
       " '77191',\n",
       " '10640',\n",
       " '11054',\n",
       " '66094',\n",
       " '11015',\n",
       " '10493',\n",
       " '66085',\n",
       " '66498',\n",
       " '66309',\n",
       " '11481c',\n",
       " '10319',\n",
       " '11830',\n",
       " '10701',\n",
       " '10239c',\n",
       " '13188',\n",
       " '66159',\n",
       " '55200',\n",
       " '10900',\n",
       " '44205',\n",
       " '10333c',\n",
       " '10756',\n",
       " '10056',\n",
       " '11030',\n",
       " '10419',\n",
       " '10794',\n",
       " '11829',\n",
       " '55529',\n",
       " '12778',\n",
       " '10065',\n",
       " '10041',\n",
       " '10213',\n",
       " '12963',\n",
       " '11711',\n",
       " '10081',\n",
       " '10308',\n",
       " '66141',\n",
       " '10946',\n",
       " '11679',\n",
       " '13306',\n",
       " '10106',\n",
       " '11803',\n",
       " '10313',\n",
       " '66171',\n",
       " '12331',\n",
       " '11658']"
      ]
     },
     "execution_count": 89,
     "metadata": {},
     "output_type": "execute_result"
    }
   ],
   "source": [
    "a.generate_batch(subjects, step='ants_dwi_to_t1', batchfile='/tmp/batch.sh', create_workflow=True)"
   ]
  },
  {
   "cell_type": "code",
   "execution_count": 92,
   "metadata": {
    "collapsed": false,
    "slideshow": {
     "slide_type": "fragment"
    }
   },
   "outputs": [
    {
     "name": "stdout",
     "output_type": "stream",
     "text": [
      "ANTS 3 -m CC[ /home/grg/data/ALFA_DWI/21056/T1/21056_mabonlm_nobias_spm_c2_d2.nii.gz, /home/grg/data/ALFA_DWI/21056/DWI/21056_B0_brain_seg_1.nii.gz, 1, 4] -r Gauss[0,3] -t Elast[1.5] -i 30x20x10 -o /home/grg/data/ALFA_DWI/21056/DWI/ants_elast_dwi-to-t1_.nii.gz\n",
      "\n",
      "ANTS 3 -m CC[ /home/grg/data/ALFA_DWI/11136/T1/11136_mabonlm_nobias_spm_c2_d2.nii.gz, /home/grg/data/ALFA_DWI/11136/DWI/11136_B0_brain_seg_1.nii.gz, 1, 4] -r Gauss[0,3] -t Elast[1.5] -i 30x20x10 -o /home/grg/data/ALFA_DWI/11136/DWI/ants_elast_dwi-to-t1_.nii.gz\n",
      "\n",
      "ANTS 3 -m CC[ /home/grg/data/ALFA_DWI/12636/T1/12636_mabonlm_nobias_spm_c2_d2.nii.gz, /home/grg/data/ALFA_DWI/12636/DWI/12636_B0_brain_seg_1.nii.gz, 1, 4] -r Gauss[0,3] -t Elast[1.5] -i 30x20x10 -o /home/grg/data/ALFA_DWI/12636/DWI/ants_elast_dwi-to-t1_.nii.gz\n",
      "\n",
      "ANTS 3 -m CC[ /home/grg/data/ALFA_DWI/10472/T1/10472_mabonlm_nobias_spm_c2_d2.nii.gz, /home/grg/data/ALFA_DWI/10472/DWI/10472_B0_brain_seg_1.nii.gz, 1, 4] -r Gauss[0,3] -t Elast[1.5] -i 30x20x10 -o /home/grg/data/ALFA_DWI/10472/DWI/ants_elast_dwi-to-t1_.nii.gz\n",
      "\n",
      "ANTS 3 -m CC[ /home/grg/data/ALFA_DWI/10265/T1/10265_mabonlm_nobias_spm_c2_d2.nii.gz, /home/grg/data/ALFA_DWI/10265/DWI/10265_B0_brain_seg_1.nii.gz, 1, 4] -r Gauss[0,3] -t Elast[1.5] -i 30x20x10 -o /home/grg/data/ALFA_DWI/10265/DWI/ants_elast_dwi-to-t1_.nii.gz\n",
      "\n",
      "ANTS 3 -m CC[ /home/grg/data/ALFA_DWI/77109/T1/77109_mabonlm_nobias_spm_c2_d2.nii.gz, /home/grg/data/ALFA_DWI/77109/DWI/77109_B0_brain_seg_1.nii.gz, 1, 4] -r Gauss[0,3] -t Elast[1.5] -i 30x20x10 -o /home/grg/data/ALFA_DWI/77109/DWI/ants_elast_dwi-to-t1_.nii.gz\n",
      "\n",
      "ANTS 3 -m CC[ /home/grg/data/ALFA_DWI/11943/T1/11943_mabonlm_nobias_spm_c2_d2.nii.gz, /home/grg/data/ALFA_DWI/11943/DWI/11943_B0_brain_seg_1.nii.gz, 1, 4] -r Gauss[0,3] -t Elast[1.5] -i 30x20x10 -o /home/grg/data/ALFA_DWI/11943/DWI/ants_elast_dwi-to-t1_.nii.gz\n",
      "\n",
      "ANTS 3 -m CC[ /home/grg/data/ALFA_DWI/10225/T1/10225_mabonlm_nobias_spm_c2_d2.nii.gz, /home/grg/data/ALFA_DWI/10225/DWI/10225_B0_brain_seg_1.nii.gz, 1, 4] -r Gauss[0,3] -t Elast[1.5] -i 30x20x10 -o /home/grg/data/ALFA_DWI/10225/DWI/ants_elast_dwi-to-t1_.nii.gz\n",
      "\n",
      "ANTS 3 -m CC[ /home/grg/data/ALFA_DWI/10338/T1/10338_mabonlm_nobias_spm_c2_d2.nii.gz, /home/grg/data/ALFA_DWI/10338/DWI/10338_B0_brain_seg_1.nii.gz, 1, 4] -r Gauss[0,3] -t Elast[1.5] -i 30x20x10 -o /home/grg/data/ALFA_DWI/10338/DWI/ants_elast_dwi-to-t1_.nii.gz\n",
      "\n",
      "ANTS 3 -m CC[ /home/grg/data/ALFA_DWI/10117/T1/10117_mabonlm_nobias_spm_c2_d2.nii.gz, /home/grg/data/ALFA_DWI/10117/DWI/10117_B0_brain_seg_1.nii.gz, 1, 4] -r Gauss[0,3] -t Elast[1.5] -i 30x20x10 -o /home/grg/data/ALFA_DWI/10117/DWI/ants_elast_dwi-to-t1_.nii.gz\n",
      "\n",
      "ANTS 3 -m CC[ /home/grg/data/ALFA_DWI/10162/T1/10162_mabonlm_nobias_spm_c2_d2.nii.gz, /home/grg/data/ALFA_DWI/10162/DWI/10162_B0_brain_seg_1.nii.gz, 1, 4] -r Gauss[0,3] -t Elast[1.5] -i 30x20x10 -o /home/grg/data/ALFA_DWI/10162/DWI/ants_elast_dwi-to-t1_.nii.gz\n",
      "\n",
      "ANTS 3 -m CC[ /home/grg/data/ALFA_DWI/12975/T1/12975_mabonlm_nobias_spm_c2_d2.nii.gz, /home/grg/data/ALFA_DWI/12975/DWI/12975_B0_brain_seg_1.nii.gz, 1, 4] -r Gauss[0,3] -t Elast[1.5] -i 30x20x10 -o /home/grg/data/ALFA_DWI/12975/DWI/ants_elast_dwi-to-t1_.nii.gz\n",
      "\n",
      "ANTS 3 -m CC[ /home/grg/data/ALFA_DWI/10396/T1/10396_mabonlm_nobias_spm_c2_d2.nii.gz, /home/grg/data/ALFA_DWI/10396/DWI/10396_B0_brain_seg_1.nii.gz, 1, 4] -r Gauss[0,3] -t Elast[1.5] -i 30x20x10 -o /home/grg/data/ALFA_DWI/10396/DWI/ants_elast_dwi-to-t1_.nii.gz\n",
      "\n",
      "ANTS 3 -m CC[ /home/grg/data/ALFA_DWI/11248/T1/11248_mabonlm_nobias_spm_c2_d2.nii.gz, /home/grg/data/ALFA_DWI/11248/DWI/11248_B0_brain_seg_1.nii.gz, 1, 4] -r Gauss[0,3] -t Elast[1.5] -i 30x20x10 -o /home/grg/data/ALFA_DWI/11248/DWI/ants_elast_dwi-to-t1_.nii.gz\n",
      "\n",
      "ANTS 3 -m CC[ /home/grg/data/ALFA_DWI/55297/T1/55297_mabonlm_nobias_spm_c2_d2.nii.gz, /home/grg/data/ALFA_DWI/55297/DWI/55297_B0_brain_seg_1.nii.gz, 1, 4] -r Gauss[0,3] -t Elast[1.5] -i 30x20x10 -o /home/grg/data/ALFA_DWI/55297/DWI/ants_elast_dwi-to-t1_.nii.gz\n",
      "\n",
      "ANTS 3 -m CC[ /home/grg/data/ALFA_DWI/13070/T1/13070_mabonlm_nobias_spm_c2_d2.nii.gz, /home/grg/data/ALFA_DWI/13070/DWI/13070_B0_brain_seg_1.nii.gz, 1, 4] -r Gauss[0,3] -t Elast[1.5] -i 30x20x10 -o /home/grg/data/ALFA_DWI/13070/DWI/ants_elast_dwi-to-t1_.nii.gz\n",
      "\n",
      "ANTS 3 -m CC[ /home/grg/data/ALFA_DWI/11902/T1/11902_mabonlm_nobias_spm_c2_d2.nii.gz, /home/grg/data/ALFA_DWI/11902/DWI/11902_B0_brain_seg_1.nii.gz, 1, 4] -r Gauss[0,3] -t Elast[1.5] -i 30x20x10 -o /home/grg/data/ALFA_DWI/11902/DWI/ants_elast_dwi-to-t1_.nii.gz\n",
      "\n",
      "ANTS 3 -m CC[ /home/grg/data/ALFA_DWI/21057c/T1/21057c_mabonlm_nobias_spm_c2_d2.nii.gz, /home/grg/data/ALFA_DWI/21057c/DWI/21057c_B0_brain_seg_1.nii.gz, 1, 4] -r Gauss[0,3] -t Elast[1.5] -i 30x20x10 -o /home/grg/data/ALFA_DWI/21057c/DWI/ants_elast_dwi-to-t1_.nii.gz\n",
      "\n",
      "ANTS 3 -m CC[ /home/grg/data/ALFA_DWI/10822/T1/10822_mabonlm_nobias_spm_c2_d2.nii.gz, /home/grg/data/ALFA_DWI/10822/DWI/10822_B0_brain_seg_1.nii.gz, 1, 4] -r Gauss[0,3] -t Elast[1.5] -i 30x20x10 -o /home/grg/data/ALFA_DWI/10822/DWI/ants_elast_dwi-to-t1_.nii.gz\n",
      "\n",
      "ANTS 3 -m CC[ /home/grg/data/ALFA_DWI/13244/T1/13244_mabonlm_nobias_spm_c2_d2.nii.gz, /home/grg/data/ALFA_DWI/13244/DWI/13244_B0_brain_seg_1.nii.gz, 1, 4] -r Gauss[0,3] -t Elast[1.5] -i 30x20x10 -o /home/grg/data/ALFA_DWI/13244/DWI/ants_elast_dwi-to-t1_.nii.gz\n",
      "\n"
     ]
    }
   ],
   "source": [
    "b = open('/tmp/batch.sh').readlines()\n",
    "for each in b[:20]:\n",
    "    print each"
   ]
  },
  {
   "cell_type": "code",
   "execution_count": null,
   "metadata": {
    "collapsed": true
   },
   "outputs": [],
   "source": []
  }
 ],
 "metadata": {
  "celltoolbar": "Slideshow",
  "kernelspec": {
   "display_name": "Python 2",
   "language": "python",
   "name": "python2"
  },
  "language_info": {
   "codemirror_mode": {
    "name": "ipython",
    "version": 2
   },
   "file_extension": ".py",
   "mimetype": "text/x-python",
   "name": "python",
   "nbconvert_exporter": "python",
   "pygments_lexer": "ipython2",
   "version": "2.7.11+"
  }
 },
 "nbformat": 4,
 "nbformat_minor": 1
}
